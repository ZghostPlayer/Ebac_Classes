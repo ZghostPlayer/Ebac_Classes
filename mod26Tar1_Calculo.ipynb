{
 "cells": [
  {
   "cell_type": "markdown",
   "metadata": {},
   "source": [
    "# Cálculo - Tarefa 01\n",
    "\n",
    "1. Marque quais desses métodos/algoritmos muito populares em ciência de dados são baseados no uso de derivada:\n",
    "\n",
    "    1. Método Mínimos Quadrados\n",
    "    2. Gradiente descendente\n",
    "    3. Newton Raphson\n",
    "    4. CART (Árvore de decisão)"
   ]
  },
  {
   "cell_type": "markdown",
   "metadata": {},
   "source": [
    "# Algoritmos Baseados no Uso de Derivadas\n",
    "\n",
    "---\n",
    "\n",
    "O **Método dos Mínimos Quadrados** minimiza o erro quadrático entre os valores previstos e os reais.  \n",
    "A solução analítica do método envolve calcular a derivada da função de erro (soma dos erros quadrados) em relação aos parâmetros e igualá-la a zero.  \n",
    "\n",
    "**Conclusão:** Este método **é baseado no uso de derivadas**.\n",
    "\n",
    "---\n",
    "\n",
    "O **Gradiente Descendente** utiliza a derivada da função de custo para determinar a direção de maior descida e ajustar os parâmetros na direção oposta.  \n",
    "Essa abordagem é essencial para encontrar o mínimo da função.  \n",
    "\n",
    "**Conclusão:** Este método **é baseado no uso de derivadas**.\n",
    "\n",
    "---\n",
    "\n",
    "O **Método de Newton-Raphson** utiliza a primeira e a segunda derivadas para encontrar as raízes de uma função.  \n",
    "Ele ajusta a aproximação da solução iterativamente com base nas derivadas.  \n",
    "\n",
    "**Conclusão:** Este método **é baseado no uso de derivadas**.\n",
    "\n",
    "---\n",
    "\n",
    "O algoritmo de **Árvores de Decisão (CART)** não utiliza derivadas.  \n",
    "Ele divide os dados com base em medidas como entropia ou índice de Gini, sem depender de gradientes ou derivadas matemáticas.  \n",
    "\n",
    "**Conclusão:** Este método **não é baseado no uso de derivadas**.\n",
    "\n",
    "---\n",
    "\n",
    "## Resumo\n",
    "Os métodos que **são baseados no uso de derivadas**:\n",
    "- Método dos Mínimos Quadrados\n",
    "- Gradiente Descendente\n",
    "- Newton-Raphson\n",
    "\n",
    "O método que **não é baseado no uso de derivadas**:\n",
    "- CART (Árvore de Decisão)\n"
   ]
  },
  {
   "cell_type": "markdown",
   "metadata": {},
   "source": [
    "2. Dada uma base de dados com uma variável resposta $y$ e um conjunto de variáveis explicativas. Considere uma estrutura de um modelo de regressão. Explique com suas palavras por que não é possível obter parâmetros que forneçam um erro quadrático médio (EQM) menor que o obtido com estimadores de mínimos quadrados."
   ]
  },
  {
   "cell_type": "markdown",
   "metadata": {
    "jp-MarkdownHeadingCollapsed": true
   },
   "source": [
    "# Por que não é possível obter um erro quadrático médio (EQM) menor que o dos mínimos quadrados?\n",
    "\n",
    "O método dos **mínimos quadrados** é usado em modelos de regressão porque ele encontra os melhores valores para os parâmetros, no sentido de minimizar a soma dos erros quadrados. Isso significa que o modelo ajustado com esse método já dá o menor erro quadrático médio (EQM) possível. Vou explicar por quê:\n",
    "\n",
    "---\n",
    "\n",
    "### 1. O método já minimiza o erro\n",
    "O objetivo do método dos mínimos quadrados é, literalmente, achar os valores dos parâmetros que deixam a diferença entre os valores previstos pelo modelo e os valores reais da variável resposta o menor possível (no sentido quadrático). Ou seja, ele já busca o \"melhor ajuste\" dentro das condições do modelo.\n",
    "\n",
    "---\n",
    "\n",
    "### 2. Ele segue regras claras (e não \"chuta\")\n",
    "Os mínimos quadrados calculam os parâmetros baseados em fórmulas matemáticas precisas, que garantem que o resultado vai ser o menor erro quadrático possível. Outros métodos ou ajustes acabariam aumentando o erro, porque não seguiriam a mesma lógica.\n",
    "\n",
    "---\n",
    "\n",
    "### 3. Funciona bem dentro das condições do modelo\n",
    "O método dos mínimos quadrados é feito para funcionar em modelos onde a relação entre as variáveis explicativas e a variável resposta é linear, e os erros são aleatórios e sem padrões. Se essas condições forem respeitadas, o EQM obtido será o menor possível.\n",
    "\n",
    "---\n",
    "\n",
    "### Conclusão\n",
    "Não dá para obter um EQM menor que o dos mínimos quadrados porque ele já é projetado para ser o mais \"perfeito\" dentro das condições do modelo. Outros ajustes só poderiam melhorar o EQM se mudássemos o modelo, por exemplo, adicionando novas variáveis ou usando uma abordagem diferente."
   ]
  }
 ],
 "metadata": {
  "kernelspec": {
   "display_name": "Python 3 (ipykernel)",
   "language": "python",
   "name": "python3"
  },
  "language_info": {
   "codemirror_mode": {
    "name": "ipython",
    "version": 3
   },
   "file_extension": ".py",
   "mimetype": "text/x-python",
   "name": "python",
   "nbconvert_exporter": "python",
   "pygments_lexer": "ipython3",
   "version": "3.12.3"
  },
  "toc": {
   "base_numbering": 1,
   "nav_menu": {},
   "number_sections": true,
   "sideBar": true,
   "skip_h1_title": true,
   "title_cell": "Índice",
   "title_sidebar": "Conteúdo",
   "toc_cell": false,
   "toc_position": {},
   "toc_section_display": true,
   "toc_window_display": false
  },
  "varInspector": {
   "cols": {
    "lenName": 16,
    "lenType": 16,
    "lenVar": 40
   },
   "kernels_config": {
    "python": {
     "delete_cmd_postfix": "",
     "delete_cmd_prefix": "del ",
     "library": "var_list.py",
     "varRefreshCmd": "print(var_dic_list())"
    },
    "r": {
     "delete_cmd_postfix": ") ",
     "delete_cmd_prefix": "rm(",
     "library": "var_list.r",
     "varRefreshCmd": "cat(var_dic_list()) "
    }
   },
   "types_to_exclude": [
    "module",
    "function",
    "builtin_function_or_method",
    "instance",
    "_Feature"
   ],
   "window_display": false
  }
 },
 "nbformat": 4,
 "nbformat_minor": 4
}
