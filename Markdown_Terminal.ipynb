{
 "cells": [
  {
   "cell_type": "markdown",
   "id": "6a33d5cb-0039-4b00-b703-7b5ef8ddb73d",
   "metadata": {},
   "source": [
    "# Fórmula de Bhaskara\n",
    "\n",
    "A solução para uma função de segundo grau depende de suas raízes (valores de x). Como já vimos, os coeficientes precisam ser números reais e o angular diferente de zero. Sendo assim, temos a seguinte fórmula de Bhaskhara:\n",
    "\n",
    "\n",
    "# $$\n",
    "x = \\frac{-b \\pm \\sqrt{b^2 - 4ac}}{2a}\n",
    "$$\n",
    "\n",
    "<div style=\"text-align: center; font-weight: bold;\">Fórmula de Bhaskara</div>\n"
   ]
  },
  {
   "cell_type": "markdown",
   "id": "39ad9a80-3ba7-4264-805f-a130884e2bb6",
   "metadata": {},
   "source": [
    "Para melhor compreensão o seu cálculo é dividido em duas partes: discriminante da equação e operações para determinar as raízes."
   ]
  },
  {
   "cell_type": "markdown",
   "id": "77bcfe04-bf17-40b8-ba1f-28da8714a69e",
   "metadata": {},
   "source": [
    "### Discriminante"
   ]
  },
  {
   "cell_type": "markdown",
   "id": "dcfdb563-bf61-49be-bf6a-3bb31c2365cc",
   "metadata": {},
   "source": [
    "A figura dentro da raiz na fórmula de Bhaskara é nomeada de discriminante. Seu símbolo é a letra grega de delta e apresenta a determinada fórmula:"
   ]
  },
  {
   "cell_type": "markdown",
   "id": "30b6fa97-44b9-4b96-b87b-4d61d21eded4",
   "metadata": {},
   "source": [
    "# $$\n",
    "\\Delta = b^2 - 4.a.c\n",
    "$$"
   ]
  },
  {
   "cell_type": "markdown",
   "id": "d2ff523b-ce24-41b9-b6f1-bf98b5456cc4",
   "metadata": {},
   "source": [
    "<div style=\"text-align: center; font-weight: bold;\">Fórmula da discriminante</div>"
   ]
  },
  {
   "cell_type": "markdown",
   "id": "7ba5f57e-df47-4bb5-915f-49fa942d460b",
   "metadata": {},
   "source": [
    "- Se o delta for maior que zero, a equação terá dois valores reais e distintos.\n",
    "- Se delta for igual a zero, a equação terá somente um valor real ou dois resultados iguais.\n",
    "- Se o delta for menor que zero, a equação não possuirá valores reais."
   ]
  }
 ],
 "metadata": {
  "kernelspec": {
   "display_name": "Python 3 (ipykernel)",
   "language": "python",
   "name": "python3"
  },
  "language_info": {
   "codemirror_mode": {
    "name": "ipython",
    "version": 3
   },
   "file_extension": ".py",
   "mimetype": "text/x-python",
   "name": "python",
   "nbconvert_exporter": "python",
   "pygments_lexer": "ipython3",
   "version": "3.12.3"
  }
 },
 "nbformat": 4,
 "nbformat_minor": 5
}
