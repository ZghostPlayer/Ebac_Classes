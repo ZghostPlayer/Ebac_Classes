{
 "cells": [
  {
   "cell_type": "markdown",
   "id": "0f0e3764-0ca4-482c-bd19-8166fe0d3276",
   "metadata": {},
   "source": [
    "# Passo a Passo para Implementar Bagging\n",
    "\n",
    "1. **Importar bibliotecas:** Carregue as bibliotecas necessárias, como `pandas`, `numpy` e classes de Bagging do `sklearn`.\n",
    "\n",
    "2. **Carregar os dados:** Use pandas para carregar o conjunto de dados no formato desejado.\n",
    "\n",
    "3. **Pré-processar os dados:** Limpe e trate os dados, incluindo lidar com valores nulos, escalonamento e codificação de variáveis categóricas.\n",
    "\n",
    "4. **Dividir o conjunto de dados:** Separe os dados em conjuntos de treinamento e teste utilizando `train_test_split`.\n",
    "\n",
    "5. **Definir o modelo base:** Escolha o modelo base para o Bagging, como uma árvore de decisão ou regressor linear.\n",
    "\n",
    "6. **Configurar o Bagging:** Instancie o `BaggingClassifier` ou `BaggingRegressor` com o modelo base e parâmetros como o número de estimadores.\n",
    "\n",
    "7. **Treinar o modelo:** Ajuste o modelo Bagging ao conjunto de treinamento com o método `.fit()`.\n",
    "\n",
    "8. **Avaliar o desempenho:** Utilize métricas como `accuracy_score` ou `mean_squared_error` no conjunto de teste.\n",
    "\n",
    "9. **Interpretar resultados:** Analise o desempenho do modelo em relação à abordagem sem Bagging.\n",
    "\n",
    "10. **Iterar ou otimizar:** Ajuste hiperparâmetros como o número de estimadores e a profundidade do modelo base para melhorar os resultados.\n"
   ]
  },
  {
   "cell_type": "markdown",
   "id": "03ef2812-5c62-4ec5-bae2-6a51975c0198",
   "metadata": {},
   "source": [
    "# Explicando o que é O Bagging (Bootstrap Aggregating)\n",
    "É uma técnica de aprendizado de máquina usada para melhorar a performance e reduzir a variância de modelos, tornando-os mais robustos e estáveis.\n",
    "\n",
    "**Como funciona:**\n",
    "\n",
    "1. Ele cria várias amostras aleatórias do conjunto de dados original com reposição (o que signfica que um mesmo dado pode ser usado mais de uma vez)\n",
    "Modelos independentes: Treina um modelo separado para cada uma dessas amostras. Normalmente, o modelo base é simples, como árvores de decisão.\n",
    "\n",
    "2. Combinação de previsões:\n",
    "- Para classificação: Combina as previsões dos modelos usando votação (a classe mais votada é escolhida).\n",
    "- Para regressão: Faz a média das previsões de todos os modelos.\n",
    "\n",
    "**Resumindo:**\n",
    "O Bagging cria vários modelos a partir de subconjuntos dos dados, treina cada um deles e depois combina os resultados para aumentar a precisão e evitar que o modelo final se ajuste demais (overfitting).\n"
   ]
  },
  {
   "cell_type": "markdown",
   "id": "2e422aa8-f3fa-4cf3-83dc-a064dd0732be",
   "metadata": {},
   "source": [
    "# Implementar o código em Python"
   ]
  },
  {
   "cell_type": "code",
   "execution_count": 13,
   "id": "1cff45c7-16e0-42c7-af04-21d41f04237d",
   "metadata": {},
   "outputs": [
    {
     "name": "stdout",
     "output_type": "stream",
     "text": [
      "Acurácia do modelo Bagging: 1.00\n"
     ]
    }
   ],
   "source": [
    "# Importando bibliotecas necessárias\n",
    "import numpy as np\n",
    "import pandas as pd\n",
    "from sklearn.ensemble import BaggingClassifier\n",
    "from sklearn.tree import DecisionTreeClassifier\n",
    "from sklearn.model_selection import train_test_split\n",
    "from sklearn.metrics import accuracy_score\n",
    "\n",
    "# Carregando o conjunto de dados (Exemplo com iris do sklearn)\n",
    "from sklearn.datasets import load_iris\n",
    "data = load_iris()\n",
    "X, y = data.data, data.target\n",
    "\n",
    "# Dividindo o conjunto de dados em treinamento e teste\n",
    "X_train, X_test, y_train, y_test = train_test_split(X, y, test_size=0.2, random_state=42)\n",
    "\n",
    "# Modelo base: Árvore de Decisão\n",
    "base_model = DecisionTreeClassifier(random_state=42)\n",
    "\n",
    "# Criando o modelo Bagging\n",
    "bagging_model = BaggingClassifier(estimator=base_model, n_estimators=10, random_state=42)\n",
    "\n",
    "# Treinando o modelo\n",
    "bagging_model.fit(X_train, y_train)\n",
    "\n",
    "# Fazendo previsões\n",
    "y_pred = bagging_model.predict(X_test)\n",
    "\n",
    "# Avaliando o desempenho\n",
    "accuracy = accuracy_score(y_test, y_pred)\n",
    "print(f\"Acurácia do modelo Bagging: {accuracy:.2f}\")\n"
   ]
  }
 ],
 "metadata": {
  "kernelspec": {
   "display_name": "Python 3 (ipykernel)",
   "language": "python",
   "name": "python3"
  },
  "language_info": {
   "codemirror_mode": {
    "name": "ipython",
    "version": 3
   },
   "file_extension": ".py",
   "mimetype": "text/x-python",
   "name": "python",
   "nbconvert_exporter": "python",
   "pygments_lexer": "ipython3",
   "version": "3.12.3"
  }
 },
 "nbformat": 4,
 "nbformat_minor": 5
}
