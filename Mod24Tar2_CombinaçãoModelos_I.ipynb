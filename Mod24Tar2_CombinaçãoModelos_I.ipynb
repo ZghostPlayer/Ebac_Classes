{
 "cells": [
  {
   "cell_type": "markdown",
   "id": "a0992c34-02b4-47c6-861a-e314ce1a681b",
   "metadata": {},
   "source": [
    "# Passo a Passo Simplificado: Random Forest\n",
    "\n",
    "1. **Importar bibliotecas necessárias:** Utilize `pandas`, `numpy` e `RandomForestClassifier` ou `RandomForestRegressor` do `sklearn`.\n",
    "\n",
    "2. **Carregar os dados:** Carregue o conjunto de dados no formato desejado.\n",
    "\n",
    "3. **Pré-processar os dados:** Realize limpeza, escalonamento e codificação, se necessário.\n",
    "\n",
    "4. **Dividir os dados:** Separe o conjunto em treinamento e teste com `train_test_split`.\n",
    "\n",
    "5. **Configurar o modelo Random Forest:**\n",
    "   - Escolha entre `RandomForestClassifier` (classificação) ou `RandomForestRegressor` (regressão).\n",
    "   - Ajuste hiperparâmetros básicos como `n_estimators` (número de árvores).\n",
    "     \n",
    "     \n",
    "6. **Treinar o modelo:** Ajuste o modelo ao conjunto de treinamento com `.fit()`.\n",
    "\n",
    "7. **Fazer previsões:** Use `.predict()` para prever resultados no conjunto de teste.\n",
    "\n",
    "8. **Avaliar o desempenho:** Utilize métricas como `accuracy_score` (classificação) ou `mean_squared_error` (regressão).\n",
    "\n",
    "9. **Otimizar:** Ajuste hiperparâmetros como profundidade das árvores (`max_depth`) ou número de características consideradas (`max_features`).\n"
   ]
  },
  {
   "cell_type": "markdown",
   "id": "ca11b85b-7844-4f8d-9acb-05e691d3b2bd",
   "metadata": {},
   "source": [
    "# O que é Random Forest?\n",
    "\n",
    "O **Random Forest** é um algoritmo de aprendizado de máquina baseado em múltiplas árvores de decisão.\n",
    "\n",
    "## Como funciona:\n",
    "\n",
    "1. **Construção de múltiplas árvores de decisão:**\n",
    "   - O Random Forest cria várias árvores de decisão independentes, formando uma \"floresta\".\n",
    "\n",
    "2. **Amostras aleatórias:**\n",
    "   - Cada árvore é treinada com uma amostra aleatória do conjunto de dados original (com reposição).\n",
    "\n",
    "3. **Subconjunto de recursos:**\n",
    "   - Em cada divisão de nó, o algoritmo escolhe aleatoriamente um subconjunto de recursos, reduzindo a correlação entre as árvores.\n",
    "\n",
    "4. **Agregação dos resultados:**\n",
    "   - Para classificação: As árvores votam, e a classe mais votada é escolhida.\n",
    "   - Para regressão: A média das previsões das árvores é usada.\n",
    "\n",
    "## Resumindo:\n",
    "\n",
    "O Random Forest é como uma equipe de especialistas que analisa o problema de diferentes perspectivas, combina as opiniões e fornece um resultado mais preciso e confiável.\n"
   ]
  },
  {
   "cell_type": "markdown",
   "id": "ff75ad5c-b9ac-41fb-bb59-205976b465ac",
   "metadata": {},
   "source": [
    "# Diferença entre Bagging e Random Forest\n",
    "\n",
    "Embora o **Bagging** e o **Random Forest** sejam técnicas relacionadas, existem diferenças importantes entre elas. Abaixo, apresentamos uma comparação clara e resumida.\n",
    "\n",
    "## Comparação:\n",
    "\n",
    "| Aspecto                     | **Bagging**                                                     | **Random Forest**                                              |\n",
    "|-----------------------------|------------------------------------------------------------------|----------------------------------------------------------------|\n",
    "| **Definição**               | Um método geral que combina previsões de vários modelos base.   | Uma extensão do Bagging que usa árvores de decisão como modelo base com modificações específicas. |\n",
    "| **Modelo Base**             | Pode usar qualquer modelo base (ex.: árvores de decisão, regressão logística, etc.). | Sempre usa árvores de decisão como modelo base.              |\n",
    "| **Seleção de Recursos (colunas)** | Usa **todas as colunas** disponíveis do conjunto de dados.          | Usa apenas um **número aleatório de colunas** (subconjunto de recursos) para cada nó da árvore. |\n",
    "| **Uso de Dados (linhas)**   | Treina cada modelo em amostras aleatórias de **todas as linhas** (com reposição). | Também usa amostras aleatórias de **todas as linhas**, mas combina com a seleção de colunas. |\n",
    "| **Redução de Correlação**   | Não tem mecanismos específicos para reduzir a correlação entre os modelos base. | Reduz a correlação entre as árvores devido à seleção aleatória de colunas e linhas. |\n",
    "| **Complexidade**            | Simples e flexível, já que pode ser usado com qualquer modelo.  | Mais especializado, mas geralmente funciona melhor com dados complexos. |\n",
    "| **Aplicação**               | Um método mais geral usado para melhorar qualquer modelo.       | Especificamente projetado para árvores de decisão.            |\n",
    "\n",
    "## Resumo:\n",
    "\n",
    "- **Bagging:** Técnica genérica que melhora a estabilidade e a precisão de qualquer modelo, combinando previsões de vários modelos base treinados em amostras diferentes. Usa todas as colunas do conjunto de dados para construir os modelos.\n",
    "- **Random Forest:** Aplicação específica do Bagging que utiliza árvores de decisão como modelo base e introduz a seleção aleatória de **linhas e colunas**, tornando o modelo mais eficiente, menos correlacionado e robusto.\n"
   ]
  },
  {
   "cell_type": "code",
   "execution_count": 26,
   "id": "7da61efa-83af-4305-a669-0338423abb47",
   "metadata": {},
   "outputs": [
    {
     "name": "stdout",
     "output_type": "stream",
     "text": [
      "Acurácia do modelo Random Forest: 1.00\n",
      "Importância das Features:\n",
      "sepal length (cm): 0.1081\n",
      "sepal width (cm): 0.0304\n",
      "petal length (cm): 0.4400\n",
      "petal width (cm): 0.4215\n"
     ]
    }
   ],
   "source": [
    "# Importando bibliotecas necessárias\n",
    "import numpy as np\n",
    "import pandas as pd\n",
    "from sklearn.ensemble import RandomForestClassifier\n",
    "from sklearn.model_selection import train_test_split\n",
    "from sklearn.metrics import accuracy_score\n",
    "\n",
    "# Carregando um conjunto de dados (Exemplo com o dataset Iris)\n",
    "from sklearn.datasets import load_iris\n",
    "data = load_iris()\n",
    "X, y = data.data, data.target\n",
    "\n",
    "# Dividindo o conjunto de dados em treinamento e teste\n",
    "X_train, X_test, y_train, y_test = train_test_split(X, y, test_size=0.2, random_state=42)\n",
    "\n",
    "# Criando o modelo Random Forest\n",
    "rf_model = RandomForestClassifier(\n",
    "    n_estimators=100,          # Número de árvores na floresta\n",
    "    max_features='sqrt',       # Seleção aleatória de um número limitado de colunas (raiz quadrada do total)\n",
    "    bootstrap=True,            # Uso de amostras com reposição (Bootstrap)\n",
    "    random_state=42,           # Garantir reprodutibilidade\n",
    "    criterion='gini'           # Critério de divisão baseado no índice Gini\n",
    ")\n",
    "\n",
    "# Treinando o modelo\n",
    "rf_model.fit(X_train, y_train)\n",
    "\n",
    "# Fazendo previsões\n",
    "y_pred = rf_model.predict(X_test)\n",
    "\n",
    "# Avaliando o desempenho\n",
    "accuracy = accuracy_score(y_test, y_pred)\n",
    "print(f\"Acurácia do modelo Random Forest: {accuracy:.2f}\")\n",
    "\n",
    "# Analisando a importância das features\n",
    "feature_importances = rf_model.feature_importances_\n",
    "print(\"Importância das Features:\")\n",
    "for feature, importance in zip(data.feature_names, feature_importances):\n",
    "    print(f\"{feature}: {importance:.4f}\")"
   ]
  },
  {
   "cell_type": "code",
   "execution_count": null,
   "id": "a3e6c041-208a-4d08-b7ae-3deb8a68d058",
   "metadata": {},
   "outputs": [],
   "source": []
  }
 ],
 "metadata": {
  "kernelspec": {
   "display_name": "Python 3 (ipykernel)",
   "language": "python",
   "name": "python3"
  },
  "language_info": {
   "codemirror_mode": {
    "name": "ipython",
    "version": 3
   },
   "file_extension": ".py",
   "mimetype": "text/x-python",
   "name": "python",
   "nbconvert_exporter": "python",
   "pygments_lexer": "ipython3",
   "version": "3.12.3"
  }
 },
 "nbformat": 4,
 "nbformat_minor": 5
}
