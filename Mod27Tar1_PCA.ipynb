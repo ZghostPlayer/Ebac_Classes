{
 "cells": [
  {
   "cell_type": "markdown",
   "metadata": {},
   "source": [
    "![Cabec%CC%A7alho_notebook.png](cabecalho_notebook.png)"
   ]
  },
  {
   "cell_type": "markdown",
   "metadata": {},
   "source": [
    "# PCA - Tarefa 01: *HAR* com PCA\n",
    "\n",
    "Vamos trabalhar com a base da demonstração feita em aula, mas vamos explorar um pouco melhor como é o desempenho da árvore variando o número de componentes principais."
   ]
  },
  {
   "cell_type": "code",
   "execution_count": 47,
   "metadata": {},
   "outputs": [
    {
     "name": "stdout",
     "output_type": "stream",
     "text": [
      "Duplicatas encontradas em 'features'. Renomeando para evitar problemas.\n",
      "0 duplicatas restantes após renomeação.\n"
     ]
    }
   ],
   "source": [
    "import pandas as pd\n",
    "from sklearn.tree import DecisionTreeClassifier\n",
    "from sklearn.decomposition import PCA\n",
    "from sklearn.metrics import accuracy_score\n",
    "from sklearn.model_selection import cross_val_score\n",
    "from sklearn.preprocessing import StandardScaler\n",
    "from sklearn.model_selection import GridSearchCV\n",
    "import time\n",
    "\n",
    "# Caminhos atualizados\n",
    "filename_features = r\"C:\\Users\\Zghos\\Desktop\\CursoEBAC\\CientistaDados\\Mod17\\UCI HAR Dataset\\features.txt\"\n",
    "filename_labels = r\"C:\\Users\\Zghos\\Desktop\\CursoEBAC\\CientistaDados\\Mod17\\UCI HAR Dataset\\activity_labels.txt\"\n",
    "\n",
    "filename_subtrain = r\"C:\\Users\\Zghos\\Desktop\\CursoEBAC\\CientistaDados\\Mod17\\UCI HAR Dataset\\train\\subject_train.txt\"\n",
    "filename_xtrain = r\"C:\\Users\\Zghos\\Desktop\\CursoEBAC\\CientistaDados\\Mod17\\UCI HAR Dataset\\train\\X_train.txt\"\n",
    "filename_ytrain = r\"C:\\Users\\Zghos\\Desktop\\CursoEBAC\\CientistaDados\\Mod17\\UCI HAR Dataset\\train\\y_train.txt\"\n",
    "\n",
    "filename_subtest = r\"C:\\Users\\Zghos\\Desktop\\CursoEBAC\\CientistaDados\\Mod17\\UCI HAR Dataset\\test\\subject_test.txt\"\n",
    "filename_xtest = r\"C:\\Users\\Zghos\\Desktop\\CursoEBAC\\CientistaDados\\Mod17\\UCI HAR Dataset\\test\\X_test.txt\"\n",
    "filename_ytest = r\"C:\\Users\\Zghos\\Desktop\\CursoEBAC\\CientistaDados\\Mod17\\UCI HAR Dataset\\test\\y_test.txt\"\n",
    "\n",
    "# Carregar os nomes das colunas\n",
    "features = pd.read_csv(filename_features, header=None, names=['nome_var'], sep=r\"\\s+\").squeeze(\"columns\")\n",
    "\n",
    "# Verificar e renomear colunas duplicadas\n",
    "if features.duplicated().any():\n",
    "    print(\"Duplicatas encontradas em 'features'. Renomeando para evitar problemas.\")\n",
    "    features = features + \"_\" + features.groupby(features).cumcount().astype(str)\n",
    "\n",
    "# Verificar novamente se as duplicatas foram removidas\n",
    "print(features.duplicated().sum(), \"duplicatas restantes após renomeação.\")\n",
    "\n",
    "# Carregar os outros dados\n",
    "labels = pd.read_csv(filename_labels, sep=r\"\\s+\", header=None, names=['cod_label', 'label'])\n",
    "\n",
    "subject_train = pd.read_csv(filename_subtrain, header=None, names=['subject_id']).squeeze(\"columns\")\n",
    "X_train = pd.read_csv(filename_xtrain, sep=r\"\\s+\", header=None, names=features.tolist())\n",
    "y_train = pd.read_csv(filename_ytrain, header=None, names=['cod_label'])\n",
    "\n",
    "subject_test = pd.read_csv(filename_subtest, header=None, names=['subject_id']).squeeze(\"columns\")\n",
    "X_test = pd.read_csv(filename_xtest, sep=r\"\\s+\", header=None, names=features.tolist())\n",
    "y_test = pd.read_csv(filename_ytest, header=None, names=['cod_label'])"
   ]
  },
  {
   "cell_type": "markdown",
   "metadata": {},
   "source": [
    "## Árvore de decisão\n",
    "\n",
    "Rode uma árvore de decisão com todas as variáveis, utilizando o ```ccp_alpha=0.001```. Avalie a acurácia nas bases de treinamento e teste. Avalie o tempo de processamento."
   ]
  },
  {
   "cell_type": "code",
   "execution_count": 22,
   "metadata": {},
   "outputs": [
    {
     "name": "stdout",
     "output_type": "stream",
     "text": [
      "Acurácia na base de treinamento: 0.9758\n",
      "Acurácia na base de teste: 0.8799\n",
      "Tempo de treinamento: 6.1832 segundos\n",
      "Tempo de predição: 0.0306 segundos\n",
      "CPU times: total: 4.92 s\n",
      "Wall time: 6.24 s\n"
     ]
    }
   ],
   "source": [
    "%%time\n",
    "\n",
    "# Criar e configurar o modelo\n",
    "modelo_decision_tree = DecisionTreeClassifier(ccp_alpha=0.001, random_state=42)\n",
    "\n",
    "# Medir o tempo de treinamento\n",
    "inicio_treino = time.time()\n",
    "modelo_decision_tree.fit(X_train, y_train)\n",
    "tempo_treino = time.time() - inicio_treino\n",
    "\n",
    "# Medir o tempo de predição\n",
    "inicio_predicao = time.time()\n",
    "y_train_pred = modelo_decision_tree.predict(X_train)\n",
    "y_test_pred = modelo_decision_tree.predict(X_test)\n",
    "tempo_predicao = time.time() - inicio_predicao\n",
    "\n",
    "# Avaliar acurácia\n",
    "acuracia_train = accuracy_score(y_train, y_train_pred)\n",
    "acuracia_test = accuracy_score(y_test, y_test_pred)\n",
    "\n",
    "# Exibir os resultados\n",
    "print(f\"Acurácia na base de treinamento: {acuracia_train:.4f}\")\n",
    "print(f\"Acurácia na base de teste: {acuracia_test:.4f}\")\n",
    "print(f\"Tempo de treinamento: {tempo_treino:.4f} segundos\")\n",
    "print(f\"Tempo de predição: {tempo_predicao:.4f} segundos\")"
   ]
  },
  {
   "cell_type": "markdown",
   "metadata": {},
   "source": [
    "### Análise de Desempenho da Árvore de Decisão\n",
    "\n",
    "#### Acurácia\n",
    "- **Base de Treinamento**: 97.58%\n",
    "- **Base de Teste**: 87.99%\n",
    "\n",
    "A alta acurácia na base de treinamento indica que o modelo consegue ajustar bem os dados fornecidos. Já a acurácia na base de teste, um pouco menor, sugere que o modelo generaliza bem, mas ainda pode estar levemente ajustado aos dados de treinamento, o que pode ser um indício de overfitting leve.\n",
    "\n",
    "#### Tempo de Processamento\n",
    "- **Treinamento**: 6.18 segundos\n",
    "- **Predição**: 0.03 segundos\n",
    "\n",
    "O tempo de treinamento foi razoável, considerando a complexidade do modelo e o tamanho da base de dados. O tempo de predição foi extremamente rápido, confirmando que árvores de decisão são eficientes para aplicação em tempo real.\n",
    "\n",
    "#### Utilização da CPU\n",
    "- **Total**: 4.92 segundos\n",
    "- **Wall Time**: 6.24 segundos\n",
    "\n",
    "A maior parte do tempo foi gasta no treinamento, mas ainda assim está dentro de um intervalo aceitável para modelos desta natureza."
   ]
  },
  {
   "cell_type": "markdown",
   "metadata": {},
   "source": [
    "## Árvore com PCA\n",
    "\n",
    "Faça uma análise de componentes principais das variáveis originais. Utilize apenas uma componente. Faça uma árvore de decisão com esta componente como variável explicativa.\n",
    "\n",
    "- Avalie a acurácia nas bases de treinamento e teste\n",
    "- Avalie o tempo de processamento"
   ]
  },
  {
   "cell_type": "code",
   "execution_count": 32,
   "metadata": {},
   "outputs": [
    {
     "name": "stdout",
     "output_type": "stream",
     "text": [
      "Tempo de PCA: 0.2581 segundos\n",
      "Tempo de treinamento: 0.0543 segundos\n",
      "Tempo de predição: 0.0010 segundos\n",
      "Acurácia na base de treinamento: 0.4997\n",
      "Acurácia na base de teste: 0.4571\n"
     ]
    }
   ],
   "source": [
    "# Realizar o PCA para reduzir as variáveis a 1 componente\n",
    "pca = PCA(n_components=1)\n",
    "\n",
    "# Transformar os dados\n",
    "inicio_pca = time.time()\n",
    "X_train_pca = pca.fit_transform(X_train)\n",
    "X_test_pca = pca.transform(X_test)\n",
    "tempo_pca = time.time() - inicio_pca\n",
    "\n",
    "# Criar e configurar o modelo de árvore de decisão\n",
    "modelo_pca = DecisionTreeClassifier(ccp_alpha=0.001, random_state=42)\n",
    "\n",
    "# Treinar a árvore de decisão com a única componente\n",
    "inicio_treino = time.time()\n",
    "modelo_pca.fit(X_train_pca, y_train)\n",
    "tempo_treino = time.time() - inicio_treino\n",
    "\n",
    "# Fazer as predições\n",
    "inicio_predicao = time.time()\n",
    "y_train_pred_pca = modelo_pca.predict(X_train_pca)\n",
    "y_test_pred_pca = modelo_pca.predict(X_test_pca)\n",
    "tempo_predicao = time.time() - inicio_predicao\n",
    "\n",
    "# Avaliar a acurácia\n",
    "acuracia_train_pca = accuracy_score(y_train, y_train_pred_pca)\n",
    "acuracia_test_pca = accuracy_score(y_test, y_test_pred_pca)\n",
    "\n",
    "# Exibir os resultados\n",
    "print(f\"Tempo de PCA: {tempo_pca:.4f} segundos\")\n",
    "print(f\"Tempo de treinamento: {tempo_treino:.4f} segundos\")\n",
    "print(f\"Tempo de predição: {tempo_predicao:.4f} segundos\")\n",
    "print(f\"Acurácia na base de treinamento: {acuracia_train_pca:.4f}\")\n",
    "print(f\"Acurácia na base de teste: {acuracia_test_pca:.4f}\")"
   ]
  },
  {
   "cell_type": "markdown",
   "metadata": {},
   "source": [
    "### Análise de Desempenho com PCA e Árvore de Decisão\n",
    "\n",
    "#### Tempo de Processamento\n",
    "- **Tempo para realizar o PCA**: 0.2581 segundos\n",
    "- **Tempo para treinar o modelo**: 0.0543 segundos\n",
    "- **Tempo para realizar predições**: 0.0010 segundos\n",
    "\n",
    "O tempo de processamento total foi extremamente eficiente, especialmente no treinamento e predição, graças à redução significativa do número de variáveis.\n",
    "\n",
    "#### Acurácia\n",
    "- **Base de Treinamento**: 49.97%\n",
    "- **Base de Teste**: 45.71%\n",
    "\n",
    "A baixa acurácia em ambas as bases (treinamento e teste) indica que **reduzir as variáveis para apenas uma componente principal comprometeu a capacidade do modelo de capturar os padrões presentes nos dados originais**. Isso é esperado, dado que apenas uma fração da variabilidade total foi considerada.\n",
    "\n",
    "Comparado ao modelo original com todas as variáveis, que alcançou uma acurácia de 87.99% na base de teste, o modelo com PCA apresenta desempenho significativamente inferior.\n",
    "\n",
    "#### Eficiência de Tempo\n",
    "A redução para uma única variável explicativa diminuiu consideravelmente o tempo de treinamento e predição, evidenciando que o uso do PCA pode ser vantajoso em situações onde a eficiência é mais importante do que a precisão."
   ]
  },
  {
   "cell_type": "markdown",
   "metadata": {},
   "source": [
    "## Testando o número de componentes\n",
    "\n",
    "Com base no código acima, teste a árvore de classificação com pelo menos as seguintes possibilidades de quantidades de componentes: ```[1, 2, 5, 10, 50]```. Avalie para cada uma delas:\n",
    "\n",
    "- Acurácia nas bases de treino e teste\n",
    "- Tempo de processamento\n"
   ]
  },
  {
   "cell_type": "code",
   "execution_count": 40,
   "metadata": {},
   "outputs": [
    {
     "name": "stdout",
     "output_type": "stream",
     "text": [
      "\n",
      "Testando com 1 componente(s) principal(is)...\n",
      "\n",
      "Testando com 2 componente(s) principal(is)...\n",
      "\n",
      "Testando com 5 componente(s) principal(is)...\n",
      "\n",
      "Testando com 10 componente(s) principal(is)...\n",
      "\n",
      "Testando com 50 componente(s) principal(is)...\n"
     ]
    },
    {
     "data": {
      "text/html": [
       "<div>\n",
       "<style scoped>\n",
       "    .dataframe tbody tr th:only-of-type {\n",
       "        vertical-align: middle;\n",
       "    }\n",
       "\n",
       "    .dataframe tbody tr th {\n",
       "        vertical-align: top;\n",
       "    }\n",
       "\n",
       "    .dataframe thead th {\n",
       "        text-align: right;\n",
       "    }\n",
       "</style>\n",
       "<table border=\"1\" class=\"dataframe\">\n",
       "  <thead>\n",
       "    <tr style=\"text-align: right;\">\n",
       "      <th></th>\n",
       "      <th>Componentes</th>\n",
       "      <th>Acurácia Treino</th>\n",
       "      <th>Acurácia Teste</th>\n",
       "      <th>Tempo PCA</th>\n",
       "      <th>Tempo Treinamento</th>\n",
       "      <th>Tempo Predição</th>\n",
       "    </tr>\n",
       "  </thead>\n",
       "  <tbody>\n",
       "    <tr>\n",
       "      <th>0</th>\n",
       "      <td>1</td>\n",
       "      <td>0.499728</td>\n",
       "      <td>0.457075</td>\n",
       "      <td>0.155272</td>\n",
       "      <td>0.058696</td>\n",
       "      <td>0.001542</td>\n",
       "    </tr>\n",
       "    <tr>\n",
       "      <th>1</th>\n",
       "      <td>2</td>\n",
       "      <td>0.612758</td>\n",
       "      <td>0.584662</td>\n",
       "      <td>0.146098</td>\n",
       "      <td>0.046571</td>\n",
       "      <td>0.001075</td>\n",
       "    </tr>\n",
       "    <tr>\n",
       "      <th>2</th>\n",
       "      <td>5</td>\n",
       "      <td>0.846028</td>\n",
       "      <td>0.788599</td>\n",
       "      <td>0.136379</td>\n",
       "      <td>0.059081</td>\n",
       "      <td>0.000000</td>\n",
       "    </tr>\n",
       "    <tr>\n",
       "      <th>3</th>\n",
       "      <td>10</td>\n",
       "      <td>0.892682</td>\n",
       "      <td>0.824228</td>\n",
       "      <td>0.125428</td>\n",
       "      <td>0.162957</td>\n",
       "      <td>0.001647</td>\n",
       "    </tr>\n",
       "    <tr>\n",
       "      <th>4</th>\n",
       "      <td>50</td>\n",
       "      <td>0.919342</td>\n",
       "      <td>0.822871</td>\n",
       "      <td>0.158426</td>\n",
       "      <td>0.807651</td>\n",
       "      <td>0.000000</td>\n",
       "    </tr>\n",
       "  </tbody>\n",
       "</table>\n",
       "</div>"
      ],
      "text/plain": [
       "   Componentes  Acurácia Treino  Acurácia Teste  Tempo PCA  Tempo Treinamento  \\\n",
       "0            1         0.499728        0.457075   0.155272           0.058696   \n",
       "1            2         0.612758        0.584662   0.146098           0.046571   \n",
       "2            5         0.846028        0.788599   0.136379           0.059081   \n",
       "3           10         0.892682        0.824228   0.125428           0.162957   \n",
       "4           50         0.919342        0.822871   0.158426           0.807651   \n",
       "\n",
       "   Tempo Predição  \n",
       "0        0.001542  \n",
       "1        0.001075  \n",
       "2        0.000000  \n",
       "3        0.001647  \n",
       "4        0.000000  "
      ]
     },
     "metadata": {},
     "output_type": "display_data"
    },
    {
     "name": "stdout",
     "output_type": "stream",
     "text": [
      "CPU times: total: 2.05 s\n",
      "Wall time: 1.92 s\n"
     ]
    }
   ],
   "source": [
    "%%time\n",
    "from sklearn.decomposition import PCA\n",
    "from sklearn.tree import DecisionTreeClassifier\n",
    "from sklearn.metrics import accuracy_score\n",
    "import time\n",
    "import pandas as pd\n",
    "\n",
    "# Lista de quantidades de componentes principais a serem testadas\n",
    "quantidades_componentes = [1, 2, 5, 10, 50]\n",
    "\n",
    "# Dicionário para armazenar os resultados\n",
    "resultados = []\n",
    "\n",
    "for n_componentes in quantidades_componentes:\n",
    "    print(f\"\\nTestando com {n_componentes} componente(s) principal(is)...\")\n",
    "    \n",
    "    # Aplicar PCA\n",
    "    pca = PCA(n_components=n_componentes)\n",
    "    inicio_pca = time.time()\n",
    "    X_train_pca = pca.fit_transform(X_train)\n",
    "    X_test_pca = pca.transform(X_test)\n",
    "    tempo_pca = time.time() - inicio_pca\n",
    "    \n",
    "    # Treinar a árvore de decisão\n",
    "    modelo = DecisionTreeClassifier(ccp_alpha=0.001, random_state=42)\n",
    "    inicio_treino = time.time()\n",
    "    modelo.fit(X_train_pca, y_train)\n",
    "    tempo_treino = time.time() - inicio_treino\n",
    "    \n",
    "    # Fazer predições\n",
    "    inicio_predicao = time.time()\n",
    "    y_train_pred = modelo.predict(X_train_pca)\n",
    "    y_test_pred = modelo.predict(X_test_pca)\n",
    "    tempo_predicao = time.time() - inicio_predicao\n",
    "    \n",
    "    # Avaliar a acurácia\n",
    "    acuracia_train = accuracy_score(y_train, y_train_pred)\n",
    "    acuracia_test = accuracy_score(y_test, y_test_pred)\n",
    "    \n",
    "    # Armazenar os resultados\n",
    "    resultados.append({\n",
    "        \"Componentes\": n_componentes,\n",
    "        \"Acurácia Treino\": acuracia_train,\n",
    "        \"Acurácia Teste\": acuracia_test,\n",
    "        \"Tempo PCA\": tempo_pca,\n",
    "        \"Tempo Treinamento\": tempo_treino,\n",
    "        \"Tempo Predição\": tempo_predicao\n",
    "    })\n",
    "\n",
    "# Exibir os resultados\n",
    "resultados_df = pd.DataFrame(resultados)\n",
    "display(resultados_df)"
   ]
  },
  {
   "cell_type": "markdown",
   "metadata": {},
   "source": [
    "### Análise de Desempenho com PCA e Árvore de Decisão\n",
    "\n",
    "#### Desempenho do Modelo\n",
    "1. **Acurácia**:\n",
    "   - O modelo com **1 componente principal** apresenta **baixa acurácia** tanto na base de treinamento quanto na base de teste (49.97% e 45.71%, respectivamente), indicando que uma única componente não consegue capturar adequadamente a variabilidade dos dados.\n",
    "   - Conforme o número de componentes aumenta, a acurácia melhora significativamente. \n",
    "   - Com **50 componentes**, a acurácia na base de treinamento atinge 91.93%, mas a melhora na base de teste estabiliza (82.29%), sugerindo que mais componentes trazem pouca vantagem em generalização.\n",
    "\n",
    "2. **Generalização**:\n",
    "   - O modelo com **5 componentes principais** já apresenta uma **boa acurácia de teste (78.86%)**, sendo uma escolha mais eficiente considerando a relação entre desempenho e tempo de processamento.\n",
    "\n",
    "#### Eficiência de Tempo\n",
    "1. **PCA**:\n",
    "   - O tempo de processamento do PCA foi relativamente estável para todas as quantidades de componentes testadas, variando entre **0.1254 e 0.1584 segundos**.\n",
    "\n",
    "2. **Treinamento**:\n",
    "   - O tempo de treinamento aumenta conforme o número de componentes cresce. Com **50 componentes**, o tempo sobe para **0.8077 segundos**, enquanto com 5 componentes é de apenas **0.0591 segundos**.\n",
    "\n",
    "3. **Predição**:\n",
    "   - O tempo de predição foi consistentemente muito baixo para todas as quantidades de componentes testadas, ficando abaixo de **0.002 segundos**, o que é ideal para aplicações em tempo real."
   ]
  },
  {
   "cell_type": "markdown",
   "metadata": {},
   "source": [
    "## Conclua\n",
    "\n",
    "- O que aconteceu com a acurácia?\n",
    "- O que aconteceu com o tempo de processamento?"
   ]
  },
  {
   "cell_type": "markdown",
   "metadata": {},
   "source": [
    "### Conclusão Final\n",
    "\n",
    "#### O que aconteceu com a acurácia?\n",
    "1. **Uso de todas as variáveis**:\n",
    "   - Com todas as variáveis, a árvore de decisão obteve uma **acurácia na base de teste de 87.99%**, pois o modelo tinha acesso a toda a variabilidade e informações dos dados originais, capturando bem os padrões.\n",
    "\n",
    "2. **Redução para 1 componente principal**:\n",
    "   - Quando reduzimos para apenas 1 componente principal com o PCA, a acurácia caiu para **45.71%**. Isso ocorreu porque uma única variável não foi suficiente para explicar os padrões presentes nos dados.\n",
    "\n",
    "3. **Aumento gradual das componentes principais**:\n",
    "   - Conforme o número de componentes aumentou:\n",
    "     - Com **5 componentes**, a acurácia de teste melhorou para **78.86%**.\n",
    "     - Com **10 componentes**, subiu ainda mais para **82.42%**.\n",
    "     - Com **50 componentes**, estabilizou em **82.29%**, indicando que adicionar mais variáveis após certo ponto não traz ganhos significativos na generalização.\n",
    "\n",
    "---\n",
    "\n",
    "#### O que aconteceu com o tempo de processamento?\n",
    "1. **Treinamento com todas as variáveis**:\n",
    "   - O treinamento completo com todas as variáveis levou **6.18 segundos**, devido ao grande número de features que o modelo precisou processar.\n",
    "\n",
    "2. **Aplicação do PCA**:\n",
    "   - O tempo do PCA foi insignificante, variando de **0.1254 a 0.1584 segundos**, independentemente do número de componentes testadas.\n",
    "\n",
    "3. **Tempo de treinamento**:\n",
    "   - Reduzir o número de componentes com o PCA impactou positivamente o tempo de treinamento:\n",
    "     - Com **1 componente**, o tempo foi de **0.0587 segundos**.\n",
    "     - Com **5 componentes**, subiu levemente para **0.0591 segundos**.\n",
    "     - Com **50 componentes**, aumentou para **0.8077 segundos**, ainda significativamente menor que o treinamento completo.\n",
    "\n",
    "4. **Tempo de predição**:\n",
    "   - O tempo de predição foi consistentemente muito baixo, próximo de **0.001 segundos**, em todas as configurações.\n",
    "     \n",
    "---\n",
    "\n",
    "#### Considerações Finais\n",
    "\n",
    "1. **Acurácia vs. Tempo**:\n",
    "   - Usar todas as variáveis proporcionou a **melhor acurácia (87.99%)**, mas ao custo de maior tempo de processamento.\n",
    "   - Usar PCA com **5 a 10 componentes** ofereceu um bom equilíbrio entre **desempenho (acurácia acima de 78%)** e **eficiência de processamento**.\n",
    "\n",
    "2. **Observações**:\n",
    "   - Para priorizar **eficiência de tempo**, reduzir para **5 componentes** é a melhor opção.\n",
    "   - Para garantir uma **acurácia alta**, usar todas as variáveis ou mais componentes (ex.: 50) é mais apropriado, desde que o tempo de processamento não seja uma restrição.\n",
    "\n",
    "3. **Aplicação Prática**:\n",
    "   - Dependendo do cenário, a escolha do número de componentes deve equilibrar precisão e eficiência:\n",
    "     - **5 componentes** são ideais para modelos rápidos com boa precisão.\n",
    "     - **Todas as variáveis** são recomendadas em casos onde a máxima acurácia é essencial, e o tempo de processamento é secundário."
   ]
  }
 ],
 "metadata": {
  "kernelspec": {
   "display_name": "Python 3 (ipykernel)",
   "language": "python",
   "name": "python3"
  },
  "language_info": {
   "codemirror_mode": {
    "name": "ipython",
    "version": 3
   },
   "file_extension": ".py",
   "mimetype": "text/x-python",
   "name": "python",
   "nbconvert_exporter": "python",
   "pygments_lexer": "ipython3",
   "version": "3.12.3"
  },
  "toc": {
   "base_numbering": 1,
   "nav_menu": {},
   "number_sections": true,
   "sideBar": true,
   "skip_h1_title": true,
   "title_cell": "Índice",
   "title_sidebar": "Conteúdo",
   "toc_cell": false,
   "toc_position": {},
   "toc_section_display": true,
   "toc_window_display": false
  },
  "varInspector": {
   "cols": {
    "lenName": 16,
    "lenType": 16,
    "lenVar": 40
   },
   "kernels_config": {
    "python": {
     "delete_cmd_postfix": "",
     "delete_cmd_prefix": "del ",
     "library": "var_list.py",
     "varRefreshCmd": "print(var_dic_list())"
    },
    "r": {
     "delete_cmd_postfix": ") ",
     "delete_cmd_prefix": "rm(",
     "library": "var_list.r",
     "varRefreshCmd": "cat(var_dic_list()) "
    }
   },
   "types_to_exclude": [
    "module",
    "function",
    "builtin_function_or_method",
    "instance",
    "_Feature"
   ],
   "window_display": false
  }
 },
 "nbformat": 4,
 "nbformat_minor": 4
}
