{
 "cells": [
  {
   "cell_type": "markdown",
   "metadata": {},
   "source": [
    "# Regressão 01 - tarefa 02 - transformações em X e Y"
   ]
  },
  {
   "cell_type": "markdown",
   "metadata": {},
   "source": [
    "### 1. Melhorando o ajuste no percentual de gorjetas\n",
    "\n",
    "a. Vamos partir do modelo feito na última tarefa, o que relaciona ```tip_pct``` e ```net_bill```. Carregue a base, os pacotes e reproduza este modelo aqui."
   ]
  },
  {
   "cell_type": "code",
   "execution_count": 10,
   "metadata": {},
   "outputs": [
    {
     "name": "stdout",
     "output_type": "stream",
     "text": [
      "                            OLS Regression Results                            \n",
      "==============================================================================\n",
      "Dep. Variable:                tip_pct   R-squared:                       0.091\n",
      "Model:                            OLS   Adj. R-squared:                  0.088\n",
      "Method:                 Least Squares   F-statistic:                     24.31\n",
      "Date:                Fri, 09 Aug 2024   Prob (F-statistic):           1.52e-06\n",
      "Time:                        20:23:49   Log-Likelihood:                 108.00\n",
      "No. Observations:                 244   AIC:                            -212.0\n",
      "Df Residuals:                     242   BIC:                            -205.0\n",
      "Df Model:                           1                                         \n",
      "Covariance Type:            nonrobust                                         \n",
      "==============================================================================\n",
      "                 coef    std err          t      P>|t|      [0.025      0.975]\n",
      "------------------------------------------------------------------------------\n",
      "Intercept      0.3053      0.023     13.166      0.000       0.260       0.351\n",
      "net_bill      -0.0061      0.001     -4.931      0.000      -0.009      -0.004\n",
      "==============================================================================\n",
      "Omnibus:                      468.674   Durbin-Watson:                   1.987\n",
      "Prob(Omnibus):                  0.000   Jarque-Bera (JB):           234437.604\n",
      "Skew:                          11.104   Prob(JB):                         0.00\n",
      "Kurtosis:                     153.221   Cond. No.                         43.3\n",
      "==============================================================================\n",
      "\n",
      "Notes:\n",
      "[1] Standard Errors assume that the covariance matrix of the errors is correctly specified.\n"
     ]
    }
   ],
   "source": [
    "# Importando os pacotes necessários\n",
    "import pandas as pd\n",
    "import seaborn as sns\n",
    "import matplotlib.pyplot as plt\n",
    "import numpy as np\n",
    "import statsmodels.formula.api as smf\n",
    "from sklearn.metrics import r2_score\n",
    "\n",
    "# Carregando a base de dados\n",
    "tips = sns.load_dataset(\"tips\")\n",
    "\n",
    "# Criando as variáveis necessárias\n",
    "tips['tip_pct'] = tips['tip'] / (tips['total_bill'] - tips['tip'])\n",
    "tips['net_bill'] = tips['total_bill'] - tips['tip']\n",
    "\n",
    "# Ajustando o modelo de regressão de tip_pct explicado por net_bill\n",
    "model_tip_pct = smf.ols(formula='tip_pct ~ net_bill', data=tips).fit()\n",
    "\n",
    "# Resumo da regressão\n",
    "print(model_tip_pct.summary())"
   ]
  },
  {
   "cell_type": "markdown",
   "metadata": {},
   "source": [
    "### 2. ajuste o modelo de ```tip_pct``` em função do logaritmo de ```net_bill```."
   ]
  },
  {
   "cell_type": "code",
   "execution_count": 4,
   "metadata": {},
   "outputs": [
    {
     "name": "stdout",
     "output_type": "stream",
     "text": [
      "                            OLS Regression Results                            \n",
      "==============================================================================\n",
      "Dep. Variable:                tip_pct   R-squared:                       0.202\n",
      "Model:                            OLS   Adj. R-squared:                  0.198\n",
      "Method:                 Least Squares   F-statistic:                     61.16\n",
      "Date:                Fri, 09 Aug 2024   Prob (F-statistic):           1.62e-13\n",
      "Time:                        20:20:40   Log-Likelihood:                 123.81\n",
      "No. Observations:                 244   AIC:                            -243.6\n",
      "Df Residuals:                     242   BIC:                            -236.6\n",
      "Df Model:                           1                                         \n",
      "Covariance Type:            nonrobust                                         \n",
      "================================================================================\n",
      "                   coef    std err          t      P>|t|      [0.025      0.975]\n",
      "--------------------------------------------------------------------------------\n",
      "Intercept        0.6181      0.054     11.444      0.000       0.512       0.724\n",
      "log_net_bill    -0.1534      0.020     -7.820      0.000      -0.192      -0.115\n",
      "==============================================================================\n",
      "Omnibus:                      440.899   Durbin-Watson:                   1.965\n",
      "Prob(Omnibus):                  0.000   Jarque-Bera (JB):           171509.052\n",
      "Skew:                           9.850   Prob(JB):                         0.00\n",
      "Kurtosis:                     131.381   Cond. No.                         17.9\n",
      "==============================================================================\n",
      "\n",
      "Notes:\n",
      "[1] Standard Errors assume that the covariance matrix of the errors is correctly specified.\n"
     ]
    }
   ],
   "source": [
    "# Transformando net_bill usando logaritmo\n",
    "tips['log_net_bill'] = np.log(tips['net_bill'])\n",
    "\n",
    "# Ajustando o modelo de regressão de tip_pct explicado por logaritmo de net_bill\n",
    "model_tip_pct_log = smf.ols(formula='tip_pct ~ log_net_bill', data=tips).fit()\n",
    "\n",
    "# Resumo da regressão\n",
    "print(model_tip_pct_log.summary())"
   ]
  },
  {
   "cell_type": "markdown",
   "metadata": {},
   "source": [
    "###  3. ajuste o modelo de ```tip_pct``` em função de um polinômio de segundo grau em ```net_bill```."
   ]
  },
  {
   "cell_type": "code",
   "execution_count": 6,
   "metadata": {},
   "outputs": [
    {
     "name": "stdout",
     "output_type": "stream",
     "text": [
      "                            OLS Regression Results                            \n",
      "==============================================================================\n",
      "Dep. Variable:                tip_pct   R-squared:                       0.158\n",
      "Model:                            OLS   Adj. R-squared:                  0.151\n",
      "Method:                 Least Squares   F-statistic:                     22.55\n",
      "Date:                Fri, 09 Aug 2024   Prob (F-statistic):           1.06e-09\n",
      "Time:                        20:21:55   Log-Likelihood:                 117.25\n",
      "No. Observations:                 244   AIC:                            -228.5\n",
      "Df Residuals:                     241   BIC:                            -218.0\n",
      "Df Model:                           2                                         \n",
      "Covariance Type:            nonrobust                                         \n",
      "====================================================================================\n",
      "                       coef    std err          t      P>|t|      [0.025      0.975]\n",
      "------------------------------------------------------------------------------------\n",
      "Intercept            0.4851      0.047     10.332      0.000       0.393       0.578\n",
      "net_bill            -0.0268      0.005     -5.477      0.000      -0.036      -0.017\n",
      "net_bill_squared     0.0005      0.000      4.356      0.000       0.000       0.001\n",
      "==============================================================================\n",
      "Omnibus:                      447.620   Durbin-Watson:                   2.026\n",
      "Prob(Omnibus):                  0.000   Jarque-Bera (JB):           186035.672\n",
      "Skew:                          10.140   Prob(JB):                         0.00\n",
      "Kurtosis:                     136.744   Cond. No.                     2.42e+03\n",
      "==============================================================================\n",
      "\n",
      "Notes:\n",
      "[1] Standard Errors assume that the covariance matrix of the errors is correctly specified.\n",
      "[2] The condition number is large, 2.42e+03. This might indicate that there are\n",
      "strong multicollinearity or other numerical problems.\n"
     ]
    }
   ],
   "source": [
    "# Criando as variáveis polinomiais de segundo grau\n",
    "tips['net_bill_squared'] = tips['net_bill'] ** 2\n",
    "\n",
    "# Ajustando o modelo de regressão de tip_pct explicado por net_bill e net_bill^2\n",
    "model_tip_pct_poly = smf.ols(formula='tip_pct ~ net_bill + net_bill_squared', data=tips).fit()\n",
    "\n",
    "# Resumo da regressão\n",
    "print(model_tip_pct_poly.summary())"
   ]
  },
  {
   "cell_type": "markdown",
   "metadata": {},
   "source": [
    "###  4. ajuste um modelo no log do ```tip_pct``` em função de ```net_bill```. Calcule o $R^2$ também em ```tip_pct```"
   ]
  },
  {
   "cell_type": "code",
   "execution_count": 12,
   "metadata": {},
   "outputs": [
    {
     "name": "stdout",
     "output_type": "stream",
     "text": [
      "R² do modelo para log(tip_pct): 0.2353\n",
      "R² do modelo para tip_pct: 0.0868\n"
     ]
    }
   ],
   "source": [
    "# Transformando tip_pct usando logaritmo\n",
    "tips['log_tip_pct'] = np.log(tips['tip_pct'])\n",
    "\n",
    "# Ajustando o modelo de regressão de log(tip_pct) explicado por net_bill\n",
    "model_log_tip_pct = smf.ols(formula='log_tip_pct ~ net_bill', data=tips).fit()\n",
    "\n",
    "# Valores preditos para log(tip_pct)\n",
    "log_tip_pct_pred = model_log_tip_pct.fittedvalues\n",
    "\n",
    "# Calculando o R^2 para log(tip_pct)\n",
    "r2_log_tip_pct = r2_score(tips['log_tip_pct'], log_tip_pct_pred)\n",
    "\n",
    "# Calculando os valores preditos para tip_pct\n",
    "tip_pct_pred = np.exp(log_tip_pct_pred)  # Revertendo a transformação logarítmica\n",
    "\n",
    "# Calculando o R^2 para tip_pct\n",
    "r2_tip_pct = r2_score(tips['tip_pct'], tip_pct_pred)\n",
    "\n",
    "# Resultados\n",
    "print(f'R² do modelo para log(tip_pct): {r2_log_tip_pct:.4f}')\n",
    "print(f'R² do modelo para tip_pct: {r2_tip_pct:.4f}')"
   ]
  },
  {
   "cell_type": "markdown",
   "metadata": {},
   "source": [
    "###  5. ajuste um modelo no log do ```tip_pct``` em função do log de ```net_bill```. Calcule o $R^2$ também em ```tip_pct```."
   ]
  },
  {
   "cell_type": "code",
   "execution_count": 14,
   "metadata": {},
   "outputs": [
    {
     "name": "stdout",
     "output_type": "stream",
     "text": [
      "R² do modelo para log(tip_pct): 0.2935\n",
      "R² do modelo para tip_pct: 0.2277\n"
     ]
    }
   ],
   "source": [
    "# Transformando tip_pct e net_bill usando logaritmo\n",
    "tips['log_tip_pct'] = np.log(tips['tip_pct'])\n",
    "tips['log_net_bill'] = np.log(tips['net_bill'])\n",
    "\n",
    "# Ajustando o modelo de regressão de log(tip_pct) explicado por log(net_bill)\n",
    "model_log_tip_pct_log_net_bill = smf.ols(formula='log_tip_pct ~ log_net_bill', data=tips).fit()\n",
    "\n",
    "# Valores preditos para log(tip_pct)\n",
    "log_tip_pct_pred = model_log_tip_pct_log_net_bill.fittedvalues\n",
    "\n",
    "# Calculando o R² para log(tip_pct)\n",
    "r2_log_tip_pct = r2_score(tips['log_tip_pct'], log_tip_pct_pred)\n",
    "\n",
    "# Calculando os valores preditos para tip_pct\n",
    "tip_pct_pred = np.exp(log_tip_pct_pred)  # Revertendo a transformação logarítmica\n",
    "\n",
    "# Calculando o R² para tip_pct\n",
    "r2_tip_pct = r2_score(tips['tip_pct'], tip_pct_pred)\n",
    "\n",
    "# Resultados\n",
    "print(f'R² do modelo para log(tip_pct): {r2_log_tip_pct:.4f}')\n",
    "print(f'R² do modelo para tip_pct: {r2_tip_pct:.4f}')"
   ]
  },
  {
   "cell_type": "markdown",
   "metadata": {},
   "source": [
    "###  6. qual modelo resultou no melhor ajuste?"
   ]
  },
  {
   "cell_type": "markdown",
   "metadata": {},
   "source": [
    "**O R² do modelo para log(tip_pct) em função do log de net_bill que foi: 0.2935**"
   ]
  }
 ],
 "metadata": {
  "kernelspec": {
   "display_name": "Python 3 (ipykernel)",
   "language": "python",
   "name": "python3"
  },
  "language_info": {
   "codemirror_mode": {
    "name": "ipython",
    "version": 3
   },
   "file_extension": ".py",
   "mimetype": "text/x-python",
   "name": "python",
   "nbconvert_exporter": "python",
   "pygments_lexer": "ipython3",
   "version": "3.12.3"
  }
 },
 "nbformat": 4,
 "nbformat_minor": 4
}
